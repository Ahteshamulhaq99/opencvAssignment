{
 "cells": [
  {
   "cell_type": "code",
   "execution_count": 1,
   "id": "53f83e8c",
   "metadata": {},
   "outputs": [],
   "source": [
    "## Import neccessary packages \n",
    "\n",
    "import cv2\n",
    "import numpy as np\n",
    "import matplotlib.pyplot as plt\n",
    "import time\n",
    "import os\n",
    "from sklearn import svm\n",
    "from tqdm import tqdm_notebook as tqdm\n",
    "from random import shuffle\n",
    "import itertools\n",
    "import pickle"
   ]
  },
  {
   "cell_type": "code",
   "execution_count": 2,
   "id": "9e41da94",
   "metadata": {},
   "outputs": [
    {
     "name": "stdout",
     "output_type": "stream",
     "text": [
      "640.0 480.0\n"
     ]
    }
   ],
   "source": [
    "cam = cv2.VideoCapture(0,cv2.CAP_DSHOW) \n",
    "cam_width =  cam.get(3)\n",
    "cam_height = cam.get(4)\n",
    "print(cam_width,cam_height)\n",
    "# asl_img = cv2.imread('Media/M4/asl22.png')\n",
    "# asl_img = cv2.resize(asl_img, (int(cam_width), int(cam_height)))\n",
    "cam.release()"
   ]
  },
  {
   "cell_type": "code",
   "execution_count": null,
   "id": "50ac293d",
   "metadata": {},
   "outputs": [],
   "source": [
    "training_path='obj'\n",
    "cap = cv2.VideoCapture(0)\n",
    "cv2.namedWindow(\"training\")\n",
    "classes=[\"x\",\"y\"]\n",
    "asci = [ord(item) for item in classes]\n",
    "storage = None\n",
    "override=False\n",
    "while(True):\n",
    "\n",
    "    ret, frame = cap.read()\n",
    "    frame = cv2.flip(frame, 1)\n",
    "    k = cv2.waitKey(1)\n",
    "    if k in asci:\n",
    "        \n",
    "        class_pos = asci.index(k)  \n",
    "        \n",
    "        class_name = classes[class_pos]\n",
    "        image = frame[5:220,5:255] \n",
    "        image = cv2.resize(image, (int(cam_width), int(cam_height)))\n",
    "        class_path= os.path.join(training_path,class_name)  \n",
    "        if not os.path.exists(class_path):\n",
    "            os.mkdir(class_path) \n",
    "        if storage != k:\n",
    "            img_counter = 0\n",
    "        if not override and img_counter == 0:\n",
    "            if os.listdir(class_path):\n",
    "                img_counter = max([int(img_name.replace(class_name,'').replace('.jpg','')) for img_name in os.listdir(class_path)])\n",
    "        img_name = \"{}{}.jpg\".format(class_name, img_counter)\n",
    "\n",
    "        # Save the image in folder named custom_training/<NAME_OF_CLASS>/  \n",
    "        cv2.imwrite(os.path.join(training_path, '{}/{}'.format(class_name, img_name)), image)\n",
    "        \n",
    "        # Show the class name and the number of stored samples of the class\n",
    "        cv2.putText(frame, \"Class: {} , Sample Count: {}\".format(class_name, img_counter), (10, 35),\n",
    "                    cv2.FONT_HERSHEY_COMPLEX, 0.7, (0, 255, 0), 2)\n",
    "        storage = k\n",
    "        \n",
    "        # Increment the counter for every new sample\n",
    "        img_counter += 1\n",
    "    cv2.rectangle(frame, (3, 3), (258, 223), (255,0,0), 2) \n",
    "    \n",
    "    \n",
    "    # Display the resulting frame\n",
    "    cv2.imshow('training',frame )\n",
    "    \n",
    "\n",
    "    if cv2.waitKey(1)==27:\n",
    "        break\n",
    "    \n",
    "cap.release()\n",
    "\n",
    "cv2.destroyAllWindows()\n"
   ]
  },
  {
   "cell_type": "code",
   "execution_count": null,
   "id": "6beb2a77",
   "metadata": {},
   "outputs": [],
   "source": [
    "train_classes = [directory for directory in os.listdir(training_path) if os.path.isdir(os.path.join(training_path,directory))]"
   ]
  },
  {
   "cell_type": "code",
   "execution_count": null,
   "id": "0de71ced",
   "metadata": {},
   "outputs": [],
   "source": [
    "# Define the percentage of data you want for the test set.\n",
    "percentage = 10\n",
    "\n",
    "for i in range(len(train_classes)):\n",
    "    \n",
    "    # Get the number of samples for each class\n",
    "    length = len(os.listdir( os.path.join(training_path, train_classes[i] )))\n",
    "    \n",
    "    # Create a splitting point based on the percentage the user defined.\n",
    "    splitter = round((length * percentage) / 100)\n",
    "    \n",
    "    # Print out the Training and Testing sample count of each class\n",
    "    print('Total Samples in {}: {}, Train:{}, Test{}'.format(train_classes[i], length, (length-splitter), splitter))\n",
    "\n",
    "# Create two dictionaries that will hold the training and test data\n",
    "test_image_names  = {}\n",
    "train_image_names = {}\n",
    "\n",
    "# Now we will randomely shuffle our data and split between training and test data.\n",
    "for i in range(len(train_classes)):\n",
    "    \n",
    "    # Get all the image names\n",
    "    all_img_names = os.listdir(os.path.join(training_path, train_classes[i]))\n",
    "    \n",
    "    # Shuffle all the names\n",
    "    shuffle(all_img_names)\n",
    "    \n",
    "    # Split the data\n",
    "    train_image_names[train_classes[i]] =  all_img_names[splitter:]\n",
    "    test_image_names[train_classes[i]]  =  all_img_names[:splitter]"
   ]
  },
  {
   "cell_type": "code",
   "execution_count": null,
   "id": "0bf40977",
   "metadata": {},
   "outputs": [],
   "source": [
    "# Initialize hog parameters, I'm initializing with all the default values.\n",
    "winSize = (120, 120) \n",
    "blockSize = (40, 40)\n",
    "blockStride = (20, 20)\n",
    "cellSize = (20, 20)\n",
    "nbins = 9\n",
    "derivAperture = 1 # has no effect \n",
    "winSigma = -1 # going to be equal to 4\n",
    "histogramNormType = 1 # has no effect \n",
    "L2HysThreshold = 0.2\n",
    "gammaCorrection = False\n",
    "nlevels = 64 \n",
    "signedGradient = False\n",
    "\n",
    "hog = cv2.HOGDescriptor(winSize, blockSize, blockStride, cellSize, nbins, derivAperture, winSigma, histogramNormType, \n",
    "                        L2HysThreshold, gammaCorrection, nlevels, signedGradient)"
   ]
  },
  {
   "cell_type": "code",
   "execution_count": null,
   "id": "421d96d6",
   "metadata": {},
   "outputs": [],
   "source": [
    "def getfeaturevectors(dictionary):\n",
    "    # This list will hold the final feature vectors.\n",
    "    Hog_feature_vectors = []\n",
    "\n",
    "    # This list will hold the labels for each image.\n",
    "    labels = []\n",
    "    \n",
    "    # This loop loops for each class (in total we have 29 classes for this dataset), we're also using tqdm for a progress bar.\n",
    "    for classe_name in tqdm(list(dictionary.keys())):\n",
    "\n",
    "            # This loop loops for each sample in each class (each class have approximately)\n",
    "            for img_name in dictionary[classe_name]:\n",
    "\n",
    "                # Read the image\n",
    "                image = cv2.imread(os.path.join(training_path, classe_name, img_name))\n",
    "\n",
    "                # Resize the image, if the image is corrupted then leave it \n",
    "                try:\n",
    "                    image = cv2.resize(image, (120, 120))\n",
    "                    \n",
    "                except:\n",
    "                    #print('Error Readimg image {}'.format(os.path.join(path,classes[i], j)))\n",
    "                    continue\n",
    "\n",
    "                # Compute the descriptor            \n",
    "                descriptor = hog.compute(image)\n",
    "\n",
    "                # Store the feature vector and the label\n",
    "                Hog_feature_vectors.append(descriptor.reshape(-1))\n",
    "\n",
    "                # Also store the label for each class\n",
    "                labels.append(classe_name)\n",
    "\n",
    "    print('Total Descriptors: {} and Total Labels: {}'.format(len(Hog_feature_vectors), len(labels) ))\n",
    "    \n",
    "    # Return the feature vectors with their labels.\n",
    "    return Hog_feature_vectors, labels"
   ]
  },
  {
   "cell_type": "code",
   "execution_count": null,
   "id": "1159222c",
   "metadata": {},
   "outputs": [],
   "source": [
    "hog_feature_vectors, labels = getfeaturevectors(train_image_names)"
   ]
  },
  {
   "cell_type": "code",
   "execution_count": null,
   "id": "f0ea91d2",
   "metadata": {},
   "outputs": [],
   "source": [
    "%%time\n",
    "model = svm.SVC(kernel='rbf', C = 30.0, gamma='scale')\n",
    "\n",
    "model.fit(hog_feature_vectors, labels)\n",
    "print(\"Training Completed\")"
   ]
  },
  {
   "cell_type": "code",
   "execution_count": null,
   "id": "716c3d21",
   "metadata": {},
   "outputs": [],
   "source": [
    "hog_feature_test_vectors, test_labels = getfeaturevectors(test_image_names)"
   ]
  },
  {
   "cell_type": "code",
   "execution_count": null,
   "id": "4ae288b1",
   "metadata": {},
   "outputs": [],
   "source": [
    "score = model.score(hog_feature_test_vectors, test_labels)\n",
    "print('Accuracy of Model is {:.2f}%'.format(score*100))"
   ]
  },
  {
   "cell_type": "code",
   "execution_count": null,
   "id": "fb867a8f",
   "metadata": {},
   "outputs": [],
   "source": [
    "pickle.dump(model, open('data/svm_asl_custom.sav', 'wb'))"
   ]
  },
  {
   "cell_type": "code",
   "execution_count": null,
   "id": "78131055",
   "metadata": {},
   "outputs": [],
   "source": [
    "# load the model from disk\n",
    "loaded_model = pickle.load(open('data/svm_asl_custom.sav', 'rb'))"
   ]
  },
  {
   "cell_type": "code",
   "execution_count": null,
   "id": "41f5741e",
   "metadata": {},
   "outputs": [],
   "source": [
    "# Read from camera\n",
    "cap = cv2.VideoCapture(0, cv2.CAP_DSHOW);\n",
    "\n",
    "while (True):\n",
    "    ret ,frame = cap.read()\n",
    "    if not ret:\n",
    "        break\n",
    "        \n",
    "    frame = cv2.flip(frame, 1)\n",
    "\n",
    "#     cv2.rectangle(frame, (383, 4), (638, 223), (255,0,0), 2)\n",
    "#     image = frame[1:230,380:620]\n",
    "    cv2.rectangle(frame, (3, 3), (258, 223), (255,0,0), 2) \n",
    "    image = frame[5:220,5:255]\n",
    "    # Resize the image as required.\n",
    "    image = cv2.resize(image, (120, 120))\n",
    "    \n",
    "    # Compute the descriptor            \n",
    "    descriptor = hog.compute(image)\n",
    "    \n",
    "    # Extract the label\n",
    "    label = loaded_model.predict(descriptor.reshape(1,-1))[0]  \n",
    "    if label==\"x\":\n",
    "        obj=\"nothing\"\n",
    "    else:\n",
    "        obj=\"Apple\"\n",
    "        \n",
    "    \n",
    "    # Put the label and show the results\n",
    "    cv2.putText(frame, 'Prediction: {}'.format(obj), (10, 35), cv2.FONT_HERSHEY_SIMPLEX, 1.0,(100, 55, 200), 3)  \n",
    "    \n",
    "#     stacked = np.hstack((frame, full_stack))\n",
    "    cv2.imshow(\"Results\", frame)\n",
    "    \n",
    "    k = cv2.waitKey(1) & 0xFF\n",
    "    if k == 27:\n",
    "        break\n",
    "\n",
    "cap.release()\n",
    "cv2.destroyAllWindows()"
   ]
  },
  {
   "cell_type": "code",
   "execution_count": null,
   "id": "5d3577d2",
   "metadata": {},
   "outputs": [],
   "source": []
  }
 ],
 "metadata": {
  "kernelspec": {
   "display_name": "Python 3",
   "language": "python",
   "name": "python3"
  },
  "language_info": {
   "codemirror_mode": {
    "name": "ipython",
    "version": 3
   },
   "file_extension": ".py",
   "mimetype": "text/x-python",
   "name": "python",
   "nbconvert_exporter": "python",
   "pygments_lexer": "ipython3",
   "version": "3.8.8"
  }
 },
 "nbformat": 4,
 "nbformat_minor": 5
}
