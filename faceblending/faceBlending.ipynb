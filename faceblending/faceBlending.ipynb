{
 "cells": [
  {
   "cell_type": "code",
   "execution_count": 1,
   "id": "30472218",
   "metadata": {},
   "outputs": [],
   "source": [
    "import cv2\n",
    "import mediapipe as mp\n",
    "import numpy as np\n",
    "import matplotlib.pyplot as plt\n",
    "image = cv2.imread(\"sharif.jpg\",1)\n",
    "mask=cv2.imread('mask.png',1)"
   ]
  },
  {
   "cell_type": "code",
   "execution_count": 2,
   "id": "1a583626",
   "metadata": {},
   "outputs": [],
   "source": [
    "def cloner(source,destination,mask=mask,manual=True,vis = True,full_image=False):\n",
    "    \n",
    "    face_cascade = cv2.CascadeClassifier(cv2.data.haarcascades + 'haarcascade_frontalface_default.xml')\n",
    "    origninalsource = source.copy()\n",
    "    \n",
    "    # This piece of code handles the condition in which we als0 want the face image to be extracted\n",
    "    if full_image:\n",
    "        \n",
    "        faces = face_cascade.detectMultiScale(source, 1.3, 5)        \n",
    "\n",
    "        if len(faces) > 0:\n",
    "            x,y,w,h=faces[0]\n",
    "            source = source[y:y+h, x:x+w]\n",
    "\n",
    "        # if face detection fails then maually crop out the image\n",
    "        else:\n",
    "            if manual:                \n",
    "                r = cv2.selectROI(source)     \n",
    "                source =  source[int(r[1]):int(r[1]+r[3]), int(r[0]):int(r[0]+r[2])]\n",
    "            else:\n",
    "                return None\n",
    "        \n",
    "    # Load a generic mask that approximate an average face if no mask was provided\n",
    "    if mask is None:\n",
    "        mask = cv2.imread('commonmask.jpg',0 )\n",
    "\n",
    "    # perform the face detection and extract the first face\n",
    "    faces = face_cascade.detectMultiScale(destination, 1.3, 5)\n",
    "\n",
    "    if len(faces) > 0:\n",
    "        x,y,w,h=faces[0]\n",
    "        faceroi = destination[y:y+h, x:x+w]\n",
    "        # get the center of the face\n",
    "        center_point = (x+w//2,y+h//2)\n",
    "\n",
    "    # if face detection fails then maually crop out the image\n",
    "    else:\n",
    "        \n",
    "        if manual: \n",
    "            r = cv2.selectROI(destination)   \n",
    "            # get the width and height\n",
    "            h = r[3]\n",
    "            w = r[2]\n",
    "            center_point = (x+w//2,y+h//2)\n",
    "        else:\n",
    "            return None\n",
    "\n",
    "    # resize the source face and the mask according to the detected face\n",
    "    size = (w+100,h+100)\n",
    "    mask = cv2.resize(mask, size)\n",
    "    source = cv2.resize(source, size)\n",
    "\n",
    "\n",
    "    cloned_image_normal = cv2.seamlessClone(source, destination, mask, center_point, cv2.NORMAL_CLONE)\n",
    "    Monochrome = cv2.seamlessClone(source, destination, mask, center_point, cv2.MONOCHROME_TRANSFER)\n",
    "\n",
    "    if vis:\n",
    "        plt.figure(figsize=[20,30])\n",
    "        plt.subplot(221);plt.imshow(origninalsource[:,:,::-1]);plt.title(\"Source\");plt.axis('off')\n",
    "        plt.subplot(222);plt.imshow(destination[:,:,::-1]);plt.title(\"destination\");plt.axis('off');\n",
    "        plt.subplot(223);plt.imshow(cloned_image_normal[:,:,::-1]);plt.title(\"Normal Cloning\");plt.axis('off')\n",
    "        plt.subplot(224);plt.imshow(Monochrome[:,:,::-1]);plt.title(\"MonoChrome Transfer\");plt.axis('off');\n",
    "\n",
    "    return cloned_image_normal"
   ]
  },
  {
   "cell_type": "code",
   "execution_count": 3,
   "id": "06d2311a",
   "metadata": {},
   "outputs": [
    {
     "data": {
      "image/png": "[encoded data removed]",
      "text/plain": [
       "<Figure size 432x288 with 1 Axes>"
      ]
     },
     "metadata": {
      "needs_background": "light"
     },
     "output_type": "display_data"
    }
   ],
   "source": [
    "source = cv2.imread('sharif.jpg',1)\n",
    "mask=cv2.imread('mask.png',1)\n",
    "\n",
    "\n",
    "cap = cv2.VideoCapture(0)  \n",
    "\n",
    "source = cv2.imread('sharif.jpg',1)\n",
    "\n",
    "\n",
    "while (True):\n",
    "    \n",
    "    ret ,frame = cap.read()  \n",
    "    if not ret:\n",
    "        break\n",
    "        \n",
    "    frame = cv2.flip( frame, 1 )    \n",
    "    cloned = cloner(source,frame,full_image=True,manual=False,vis=False)\n",
    "\n",
    "    if cloned is None:\n",
    "        cv2.imshow(\"img\",frame)\n",
    "    else:\n",
    "        cv2.imshow(\"img\",cloned)  \n",
    "    \n",
    "    k = cv2.waitKey(1)  & 0xFF\n",
    "\n",
    "    if k == ord('q'):  \n",
    "        break\n",
    "\n",
    "    if k ==ord('s'):\n",
    "        cv2.imwrite('mysavedpicc.jpg',cloned)\n",
    "        cv2.imshow('Picture Saved',cloned)  \n",
    "                     \n",
    "cap.release()\n",
    "cv2.destroyAllWindows()"
   ]
  },
  {
   "cell_type": "code",
   "execution_count": null,
   "id": "ba5d22e6",
   "metadata": {},
   "outputs": [],
   "source": []
  }
 ],
 "metadata": {
  "kernelspec": {
   "display_name": "Python 3",
   "language": "python",
   "name": "python3"
  },
  "language_info": {
   "codemirror_mode": {
    "name": "ipython",
    "version": 3
   },
   "file_extension": ".py",
   "mimetype": "text/x-python",
   "name": "python",
   "nbconvert_exporter": "python",
   "pygments_lexer": "ipython3",
   "version": "3.8.8"
  }
 },
 "nbformat": 4,
 "nbformat_minor": 5
}
