{
 "cells": [
  {
   "cell_type": "code",
   "execution_count": 7,
   "id": "1ebcff89",
   "metadata": {},
   "outputs": [],
   "source": [
    "import cv2\n",
    "import numpy as np\n",
    "import matplotlib.pyplot as plt\n",
    "%matplotlib inline"
   ]
  },
  {
   "cell_type": "code",
   "execution_count": 12,
   "id": "8dc4c437",
   "metadata": {},
   "outputs": [
    {
     "name": "stdout",
     "output_type": "stream",
     "text": [
      "<KAZE 0000026F22819ED0>\n"
     ]
    },
    {
     "ename": "error",
     "evalue": "OpenCV(4.5.3) C:\\Users\\runneradmin\\AppData\\Local\\Temp\\pip-req-build-u4kjpz2z\\opencv\\modules\\flann\\src\\miniflann.cpp:336: error: (-210:Unsupported format or combination of formats) in function 'cv::flann::buildIndex_'\n> type=5\n> ",
     "output_type": "error",
     "traceback": [
      "\u001b[1;31m---------------------------------------------------------------------------\u001b[0m",
      "\u001b[1;31merror\u001b[0m                                     Traceback (most recent call last)",
      "\u001b[1;32m<ipython-input-12-f0212c0aeae8>\u001b[0m in \u001b[0;36m<module>\u001b[1;34m\u001b[0m\n\u001b[0;32m     18\u001b[0m \u001b[1;33m\u001b[0m\u001b[0m\n\u001b[0;32m     19\u001b[0m \u001b[0mflann\u001b[0m \u001b[1;33m=\u001b[0m \u001b[0mcv2\u001b[0m\u001b[1;33m.\u001b[0m\u001b[0mFlannBasedMatcher\u001b[0m\u001b[1;33m(\u001b[0m\u001b[0mindex_params\u001b[0m\u001b[1;33m,\u001b[0m\u001b[0msearch_params\u001b[0m\u001b[1;33m)\u001b[0m\u001b[1;33m\u001b[0m\u001b[1;33m\u001b[0m\u001b[0m\n\u001b[1;32m---> 20\u001b[1;33m \u001b[0mmatches\u001b[0m \u001b[1;33m=\u001b[0m \u001b[0mflann\u001b[0m\u001b[1;33m.\u001b[0m\u001b[0mknnMatch\u001b[0m\u001b[1;33m(\u001b[0m\u001b[0mdes1\u001b[0m\u001b[1;33m,\u001b[0m\u001b[0mdes2\u001b[0m\u001b[1;33m,\u001b[0m\u001b[0mk\u001b[0m\u001b[1;33m=\u001b[0m\u001b[1;36m2\u001b[0m\u001b[1;33m)\u001b[0m\u001b[1;33m\u001b[0m\u001b[1;33m\u001b[0m\u001b[0m\n\u001b[0m\u001b[0;32m     21\u001b[0m \u001b[1;33m\u001b[0m\u001b[0m\n\u001b[0;32m     22\u001b[0m \u001b[0mgood_points\u001b[0m \u001b[1;33m=\u001b[0m \u001b[1;33m[\u001b[0m\u001b[1;33m]\u001b[0m\u001b[1;33m\u001b[0m\u001b[1;33m\u001b[0m\u001b[0m\n",
      "\u001b[1;31merror\u001b[0m: OpenCV(4.5.3) C:\\Users\\runneradmin\\AppData\\Local\\Temp\\pip-req-build-u4kjpz2z\\opencv\\modules\\flann\\src\\miniflann.cpp:336: error: (-210:Unsupported format or combination of formats) in function 'cv::flann::buildIndex_'\n> type=5\n> "
     ]
    }
   ],
   "source": [
    "img1 = cv2.imread('Cimg.jpg',1)  # queryImage\n",
    "img2 = cv2.imread('img.jpg',1) # trainImage\n",
    "\n",
    "orb = cv2.KAZE_create(4000)\n",
    "# Initialize ORB detector\n",
    "# orb = cv2.ORB_create(4000,fastThreshold=30)\n",
    "# orb = cv2.ORB_create(1200)\n",
    "# orb = cv2.FastFeatureDetector_create(1200)\n",
    "# orb = cv2.xfeatures2d.BriefDescriptorExtractor_create(1200)\n",
    "print(orb)\n",
    "# Find the keypoints and descriptors with ORB\n",
    "kp1, des1 = orb.detectAndCompute(img1,None)\n",
    "kp2, des2 = orb.detectAndCompute(img2,None)\n",
    "\n",
    "index_params= dict(algorithm = 6, table_number = 6, key_size = 12, multi_probe_level = 1)\n",
    "\n",
    "search_params = dict(checks=100)   \n",
    "\n",
    "flann = cv2.FlannBasedMatcher(index_params,search_params)\n",
    "matches = flann.knnMatch(des1,des2,k=2)\n",
    "\n",
    "good_points = []\n",
    "for m,n in matches:\n",
    "    if m.distance < 0.60*n.distance:\n",
    "        good_points.append(m)"
   ]
  },
  {
   "cell_type": "code",
   "execution_count": 13,
   "id": "41c14086",
   "metadata": {},
   "outputs": [
    {
     "ename": "IndexError",
     "evalue": "list index out of range",
     "output_type": "error",
     "traceback": [
      "\u001b[1;31m---------------------------------------------------------------------------\u001b[0m",
      "\u001b[1;31mIndexError\u001b[0m                                Traceback (most recent call last)",
      "\u001b[1;32m<ipython-input-13-924fe782ae02>\u001b[0m in \u001b[0;36m<module>\u001b[1;34m\u001b[0m\n\u001b[0;32m     13\u001b[0m         \u001b[1;31m# This will be a tuple of x,y coordinate of a good match\u001b[0m\u001b[1;33m\u001b[0m\u001b[1;33m\u001b[0m\u001b[1;33m\u001b[0m\u001b[0m\n\u001b[0;32m     14\u001b[0m         \u001b[0msrc_pts\u001b[0m\u001b[1;33m.\u001b[0m\u001b[0mappend\u001b[0m\u001b[1;33m(\u001b[0m \u001b[0mkp1\u001b[0m\u001b[1;33m[\u001b[0m\u001b[0mm\u001b[0m\u001b[1;33m.\u001b[0m\u001b[0mqueryIdx\u001b[0m\u001b[1;33m]\u001b[0m\u001b[1;33m.\u001b[0m\u001b[0mpt\u001b[0m \u001b[1;33m)\u001b[0m\u001b[1;33m\u001b[0m\u001b[1;33m\u001b[0m\u001b[0m\n\u001b[1;32m---> 15\u001b[1;33m         \u001b[0mdst_pts\u001b[0m\u001b[1;33m.\u001b[0m\u001b[0mappend\u001b[0m\u001b[1;33m(\u001b[0m \u001b[0mkp2\u001b[0m\u001b[1;33m[\u001b[0m\u001b[0mm\u001b[0m\u001b[1;33m.\u001b[0m\u001b[0mtrainIdx\u001b[0m\u001b[1;33m]\u001b[0m\u001b[1;33m.\u001b[0m\u001b[0mpt\u001b[0m \u001b[1;33m)\u001b[0m\u001b[1;33m\u001b[0m\u001b[1;33m\u001b[0m\u001b[0m\n\u001b[0m\u001b[0;32m     16\u001b[0m \u001b[1;33m\u001b[0m\u001b[0m\n\u001b[0;32m     17\u001b[0m     \u001b[1;31m# Converting to Float and Reshaping from shape (no_of_matches, 2) to (no_of_matches, 1, 2)\u001b[0m\u001b[1;33m\u001b[0m\u001b[1;33m\u001b[0m\u001b[1;33m\u001b[0m\u001b[0m\n",
      "\u001b[1;31mIndexError\u001b[0m: list index out of range"
     ]
    }
   ],
   "source": [
    "# min number of matches to call it a match.\n",
    "MIN_MATCH_COUNT = 10\n",
    "\n",
    "# Check if there are enough matches to detrmine if the object is actually present in the trainImg.\n",
    "if len(good_points) > MIN_MATCH_COUNT: \n",
    "    \n",
    "    # We are grabbing the locations of all the good matched points from both the images and formating them in a list\n",
    "    src_pts = []\n",
    "    dst_pts = []\n",
    "    \n",
    "    # Remember the indexes (e.g m.queryIdx) are the indexes of only the good matches in all the matches.\n",
    "    for m in good_points:\n",
    "        # This will be a tuple of x,y coordinate of a good match\n",
    "        src_pts.append( kp1[m.queryIdx].pt )\n",
    "        dst_pts.append( kp2[m.trainIdx].pt )\n",
    "        \n",
    "    # Converting to Float and Reshaping from shape (no_of_matches, 2) to (no_of_matches, 1, 2)    \n",
    "    src_pts = np.float32(src_pts).reshape(-1, 1, 2) \n",
    "    dst_pts = np.float32(dst_pts).reshape(-1, 1, 2)\n",
    "\n",
    "    # A 3x3 homography transformation matrix is obtained\n",
    "    M , _ = cv2.findHomography(src_pts, dst_pts, cv2.RANSAC, 5.0)\n",
    "       \n",
    "    # Extracting the height and width of the Query Image.    \n",
    "    h,w = img1.shape[:2]\n",
    "    \n",
    "    # This is the full size of our original Query Image.\n",
    "    pts = np.float32([[0,0],[0,h],[w,h],[w,0] ]).reshape(-1,1,2)  \n",
    "    \n",
    "    # Takes in the initial points and transformation matrix and returns an array of same size as pts.\n",
    "    # If your object is a rectangle then points in this array is just your usual 4 boundary points of that object.\n",
    "    dst = cv2.perspectiveTransform(pts, M)\n",
    "    \n",
    "    # Drawing a polygon on the detected Object. We are not drawing a rectangle since your object may be rotated at an angle.\n",
    "    final_image = cv2.polylines(img2.copy(), [np.int32(dst)], True, (255,0,0), 3, cv2.LINE_AA)  \n",
    "else:\n",
    "    print(\"Not enough matches are found \" +str(len(good_points)))\n",
    "plt.figure(figsize=[25,25])\n",
    "plt.subplot(221);plt.imshow(img1[...,::-1]);plt.title(\"Query Img\");plt.axis('off');\n",
    "plt.subplot(222);plt.imshow(img2[...,::-1]);plt.title(\"Train Img\");plt.axis('off');\n",
    "plt.subplot(223);plt.imshow(final_image[...,::-1]);plt.title(\"Detected Object\");plt.axis('off');"
   ]
  },
  {
   "cell_type": "code",
   "execution_count": null,
   "id": "7e840ccd",
   "metadata": {},
   "outputs": [],
   "source": []
  }
 ],
 "metadata": {
  "kernelspec": {
   "display_name": "Python 3",
   "language": "python",
   "name": "python3"
  },
  "language_info": {
   "codemirror_mode": {
    "name": "ipython",
    "version": 3
   },
   "file_extension": ".py",
   "mimetype": "text/x-python",
   "name": "python",
   "nbconvert_exporter": "python",
   "pygments_lexer": "ipython3",
   "version": "3.8.8"
  }
 },
 "nbformat": 4,
 "nbformat_minor": 5
}
